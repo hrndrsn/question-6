{
  "nbformat": 4,
  "nbformat_minor": 0,
  "metadata": {
    "colab": {
      "provenance": []
    },
    "kernelspec": {
      "name": "python3",
      "display_name": "Python 3"
    },
    "language_info": {
      "name": "python"
    }
  },
  "cells": [
    {
      "cell_type": "code",
      "source": [
        "import re\n",
        "from collections import defaultdict\n",
        "\n",
        "database = [\n",
        "    {\"Device_Type\": \"AXO145\", \"Stats_Access_Link\": \"<url>https://xcd32112.smart_meter.com<\\\\url>\"},\n",
        "    {\"Device_Type\": \"TRU151\", \"Stats_Access_Link\": \"<url>http://tXh67.dia_meter.com<\\\\url>\"},\n",
        "    {\"Device_Type\": \"ZOD231\", \"Stats_Access_Link\": \"<url>http://yT5495.smart_meter.com<\\\\url>\"},\n",
        "    {\"Device_Type\": \"YRT326\", \"Stats_Access_Link\": \"<url>https://ret323_TRu.crown.com<\\\\url>\"},\n",
        "    {\"Device_Type\": \"LWR245\", \"Stats_Access_Link\": \"<url>https://luwr3243.celcius.com/info<\\\\url>\"},\n",
        "]\n",
        "\n",
        "url_pattern = re.compile(r'<url>(https?://)?([a-z0-9_]+\\.[a-z0-9_]+\\.[a-z]+)<\\\\url>', re.IGNORECASE)\n",
        "urls_per_device = defaultdict(list)\n",
        "for entry in database:\n",
        "    device_type = entry[\"Device_Type\"]\n",
        "    access_link = entry[\"Stats_Access_Link\"]\n",
        "    match = url_pattern.search(access_link)\n",
        "    if match:\n",
        "        url = match.group(2)\n",
        "        urls_per_device[device_type].append(url.lower())\n",
        "\n",
        "for device_type, urls in urls_per_device.items():\n",
        "    print(f\"Device Type: {device_type}\")\n",
        "    for url in urls:\n",
        "        print(\"URL: \" , url)\n",
        "    print()\n"
      ],
      "metadata": {
        "colab": {
          "base_uri": "https://localhost:8080/"
        },
        "id": "Kg_h7hW0ZMMd",
        "outputId": "925fe271-d8d9-46c7-8fe0-2671f46da7ae"
      },
      "execution_count": 11,
      "outputs": [
        {
          "output_type": "stream",
          "name": "stdout",
          "text": [
            "Device Type: AXO145\n",
            "URL:  xcd32112.smart_meter.com\n",
            "\n",
            "Device Type: TRU151\n",
            "URL:  txh67.dia_meter.com\n",
            "\n",
            "Device Type: ZOD231\n",
            "URL:  yt5495.smart_meter.com\n",
            "\n",
            "Device Type: YRT326\n",
            "URL:  ret323_tru.crown.com\n",
            "\n"
          ]
        }
      ]
    }
  ]
}